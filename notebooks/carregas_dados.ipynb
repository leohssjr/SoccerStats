{
 "cells": [
  {
   "cell_type": "code",
   "execution_count": 24,
   "id": "695528e3",
   "metadata": {},
   "outputs": [],
   "source": [
    "import os\n",
    "import pandas as pd\n",
    "from sqlalchemy import create_engine\n",
    "from dotenv import load_dotenv"
   ]
  },
  {
   "cell_type": "code",
   "execution_count": 26,
   "id": "f1872fc5",
   "metadata": {},
   "outputs": [],
   "source": [
    "load_dotenv()\n",
    "\n",
    "USER = os.getenv(\"POSTGRES_USER\")\n",
    "PASSWORD = os.getenv(\"POSTGRES_PASSWORD\")\n",
    "PORT = os.getenv(\"POSTGRES_PORT\")\n",
    "HOST = \"localhost\"\n",
    "DB_NAME = \"db_soccerstats\"\n",
    "    \n",
    "engine = create_engine(f\"postgresql+psycopg2://{USER}:{PASSWORD}@{HOST}:{PORT}/{DB_NAME}\")"
   ]
  },
  {
   "cell_type": "code",
   "execution_count": 29,
   "id": "4a5f8f20",
   "metadata": {},
   "outputs": [
    {
     "name": "stdout",
     "output_type": "stream",
     "text": [
      "Arquivos encontrados:\n",
      " ['2015_scouts.csv', '2014_partidas.csv', '2014_scouts.csv', '2015_atletas.csv', 'posicoes.csv', '2016_scouts.csv', '2016_clubes.csv', '2014_atletas.csv', '2017_clubes.csv', '2014_clubes.csv', '2017_atletas.csv', '2017_partidas.csv', '2016_partidas.csv', '2015_partidas.csv', 'status.csv', '2016_atletas.csv', 'pontuacao.csv', '2015_clubes.csv', '2017_scouts.csv']\n"
     ]
    }
   ],
   "source": [
    "raw_path = \"data/raw/\"\n",
    "csv_files = [f for f in os.listdir(raw_path) if f.endswith(\".csv\")]\n",
    "print(\"Arquivos encontrados:\\n\", csv_files)"
   ]
  },
  {
   "cell_type": "code",
   "execution_count": 30,
   "id": "07b0317c",
   "metadata": {},
   "outputs": [],
   "source": [
    "def create_table(df, table_name, schema_name):\n",
    "    df.to_sql(table_name, engine, schema=schema_name, if_exists=\"replace\", index=False)\n",
    "    print(f\"Tabela '{schema_name}.{table_name}' criada com {len(df)} registros!\")"
   ]
  },
  {
   "cell_type": "code",
   "execution_count": 31,
   "id": "d273e5de",
   "metadata": {},
   "outputs": [
    {
     "name": "stdout",
     "output_type": "stream",
     "text": [
      "Tabela 'raw.2015_scouts' criada com 30510 registros!\n",
      "Tabela 'raw.2014_partidas' criada com 380 registros!\n",
      "Tabela 'raw.2014_scouts' criada com 31567 registros!\n",
      "Tabela 'raw.2015_atletas' criada com 1026 registros!\n",
      "Tabela 'raw.posicoes' criada com 6 registros!\n",
      "Tabela 'raw.2016_scouts' criada com 31168 registros!\n",
      "Tabela 'raw.2016_clubes' criada com 20 registros!\n",
      "Tabela 'raw.2014_atletas' criada com 1033 registros!\n",
      "Tabela 'raw.2017_clubes' criada com 20 registros!\n",
      "Tabela 'raw.2014_clubes' criada com 20 registros!\n",
      "Tabela 'raw.2017_atletas' criada com 944 registros!\n",
      "Tabela 'raw.2017_partidas' criada com 200 registros!\n",
      "Tabela 'raw.2016_partidas' criada com 380 registros!\n",
      "Tabela 'raw.2015_partidas' criada com 380 registros!\n",
      "Tabela 'raw.status' criada com 5 registros!\n",
      "Tabela 'raw.2016_atletas' criada com 1001 registros!\n",
      "Tabela 'raw.pontuacao' criada com 18 registros!\n",
      "Tabela 'raw.2015_clubes' criada com 20 registros!\n",
      "Tabela 'raw.2017_scouts' criada com 16313 registros!\n"
     ]
    }
   ],
   "source": [
    "for csv_file in csv_files:\n",
    "    df_raw = pd.read_csv(os.path.join(raw_path, csv_file))\n",
    "    table_name = csv_file.replace(\".csv\", \"\").lower()\n",
    "    create_table(df_raw, table_name, schema_name=\"raw\")"
   ]
  },
  {
   "cell_type": "code",
   "execution_count": 38,
   "id": "a1b8c14d",
   "metadata": {},
   "outputs": [
    {
     "name": "stdout",
     "output_type": "stream",
     "text": [
      "Tabela 'silver.2015_scouts' criada com 30510 registros!\n",
      "Tabela 'silver.2014_partidas' criada com 380 registros!\n",
      "Tabela 'silver.2014_scouts' criada com 31567 registros!\n",
      "Tabela 'silver.2015_atletas' criada com 1026 registros!\n",
      "Tabela 'silver.posicoes' criada com 6 registros!\n",
      "Tabela 'silver.2016_scouts' criada com 31168 registros!\n",
      "Tabela 'silver.2016_clubes' criada com 20 registros!\n",
      "Tabela 'silver.2014_atletas' criada com 1033 registros!\n",
      "Tabela 'silver.2017_clubes' criada com 20 registros!\n",
      "Tabela 'silver.2014_clubes' criada com 20 registros!\n",
      "Tabela 'silver.2017_atletas' criada com 944 registros!\n",
      "Tabela 'silver.2017_partidas' criada com 200 registros!\n",
      "Tabela 'silver.2016_partidas' criada com 380 registros!\n",
      "Tabela 'silver.2015_partidas' criada com 380 registros!\n",
      "Tabela 'silver.status' criada com 5 registros!\n",
      "Tabela 'silver.2016_atletas' criada com 1001 registros!\n",
      "Tabela 'silver.pontuacao' criada com 18 registros!\n",
      "Tabela 'silver.2015_clubes' criada com 20 registros!\n",
      "Tabela 'silver.2017_scouts' criada com 16313 registros!\n"
     ]
    }
   ],
   "source": [
    "from sqlalchemy import text\n",
    "\n",
    "with engine.connect() as conn:\n",
    "    result = conn.execute(\n",
    "        text(\"\"\"\n",
    "            SELECT table_name \n",
    "            FROM information_schema.tables \n",
    "            WHERE table_schema = 'raw';\n",
    "        \"\"\")\n",
    "    )\n",
    "    raw_tables = [row[0] for row in result]\n",
    "\n",
    "# print(\"Tabelas na Raw:\", raw_tables)\n",
    "\n",
    "for table_name in raw_tables:\n",
    "    df = pd.read_sql(f'SELECT * FROM \"raw\".\"{table_name}\"', engine)\n",
    "    \n",
    "    df.columns = [col.strip().lower() for col in df.columns]\n",
    "    df = df.drop_duplicates()\n",
    "    # df = df.fillna(\"\")\n",
    "    \n",
    "    create_table(df, table_name, schema_name=\"silver\")\n"
   ]
  },
  {
   "cell_type": "code",
   "execution_count": 35,
   "id": "9ab04cca",
   "metadata": {},
   "outputs": [
    {
     "name": "stdout",
     "output_type": "stream",
     "text": [
      "Tabelas disponíveis na camada Raw: ['2015_scouts', '2014_partidas', '2014_scouts', '2015_atletas', 'posicoes', '2016_scouts', '2016_clubes', '2014_atletas', '2017_clubes', '2014_clubes', '2017_atletas', '2017_partidas', '2016_partidas', '2015_partidas', 'status', '2016_atletas', 'pontuacao', '2015_clubes', '2017_scouts']\n"
     ]
    }
   ],
   "source": [
    "from sqlalchemy import text\n",
    "\n",
    "with engine.connect() as conn:\n",
    "    result = conn.execute(\n",
    "        text(\"\"\"\n",
    "            SELECT table_name \n",
    "            FROM information_schema.tables \n",
    "            WHERE table_schema = 'raw';\n",
    "        \"\"\")\n",
    "    )\n",
    "    raw_tables = [row[0] for row in result]\n",
    "\n",
    "print(\"Tabelas disponíveis na camada Raw:\", raw_tables)\n"
   ]
  }
 ],
 "metadata": {
  "kernelspec": {
   "display_name": "Python 3 (ipykernel)",
   "language": "python",
   "name": "python3"
  },
  "language_info": {
   "codemirror_mode": {
    "name": "ipython",
    "version": 3
   },
   "file_extension": ".py",
   "mimetype": "text/x-python",
   "name": "python",
   "nbconvert_exporter": "python",
   "pygments_lexer": "ipython3",
   "version": "3.12.3"
  }
 },
 "nbformat": 4,
 "nbformat_minor": 5
}
