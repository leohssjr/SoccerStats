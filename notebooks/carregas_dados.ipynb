{
 "cells": [
  {
   "cell_type": "code",
   "execution_count": 17,
   "id": "695528e3",
   "metadata": {},
   "outputs": [],
   "source": [
    "import os\n",
    "import pandas as pd\n",
    "from sqlalchemy import create_engine, inspect\n",
    "from dotenv import load_dotenv"
   ]
  },
  {
   "cell_type": "code",
   "execution_count": 13,
   "id": "f1872fc5",
   "metadata": {},
   "outputs": [],
   "source": [
    "load_dotenv()\n",
    "\n",
    "USER = os.getenv(\"POSTGRES_USER\")\n",
    "PASSWORD = os.getenv(\"POSTGRES_PASSWORD\")\n",
    "PORT = os.getenv(\"POSTGRES_PORT\")\n",
    "HOST = \"localhost\"\n",
    "DB_NAME = \"db_soccerstats\"\n",
    "    \n",
    "engine = create_engine(f\"postgresql+psycopg2://{USER}:{PASSWORD}@{HOST}:{PORT}/{DB_NAME}\")"
   ]
  },
  {
   "cell_type": "code",
   "execution_count": 14,
   "id": "4a5f8f20",
   "metadata": {},
   "outputs": [
    {
     "name": "stdout",
     "output_type": "stream",
     "text": [
      "Arquivos encontrados:\n",
      " ['2015_scouts.csv', '2014_partidas.csv', '2014_scouts.csv', '2015_atletas.csv', 'posicoes.csv', '2016_scouts.csv', '2016_clubes.csv', '2014_atletas.csv', '2017_clubes.csv', '2014_clubes.csv', '2017_atletas.csv', '2017_partidas.csv', '2016_partidas.csv', '2015_partidas.csv', 'status.csv', '2016_atletas.csv', 'pontuacao.csv', '2015_clubes.csv', '2017_scouts.csv']\n"
     ]
    }
   ],
   "source": [
    "raw_path = \"data/raw/\"\n",
    "csv_files = [f for f in os.listdir(raw_path) if f.endswith(\".csv\")]\n",
    "print(\"Arquivos encontrados:\\n\", csv_files)"
   ]
  },
  {
   "cell_type": "code",
   "execution_count": 15,
   "id": "07b0317c",
   "metadata": {},
   "outputs": [],
   "source": [
    "def create_table(df, table_name, schema_name):\n",
    "    df.to_sql(table_name, engine, schema=schema_name, if_exists=\"replace\", index=False)\n",
    "    print(f\"Tabela '{schema_name}.{table_name}' criada com {len(df)} registros!\")"
   ]
  },
  {
   "cell_type": "code",
   "execution_count": 16,
   "id": "d273e5de",
   "metadata": {},
   "outputs": [
    {
     "name": "stdout",
     "output_type": "stream",
     "text": [
      "Tabela 'raw.2015_scouts' criada com 30510 registros!\n",
      "Tabela 'raw.2014_partidas' criada com 380 registros!\n",
      "Tabela 'raw.2014_scouts' criada com 31567 registros!\n",
      "Tabela 'raw.2015_atletas' criada com 1026 registros!\n",
      "Tabela 'raw.posicoes' criada com 6 registros!\n",
      "Tabela 'raw.2016_scouts' criada com 31168 registros!\n",
      "Tabela 'raw.2016_clubes' criada com 20 registros!\n",
      "Tabela 'raw.2014_atletas' criada com 1033 registros!\n",
      "Tabela 'raw.2017_clubes' criada com 20 registros!\n",
      "Tabela 'raw.2014_clubes' criada com 20 registros!\n",
      "Tabela 'raw.2017_atletas' criada com 944 registros!\n",
      "Tabela 'raw.2017_partidas' criada com 200 registros!\n",
      "Tabela 'raw.2016_partidas' criada com 380 registros!\n",
      "Tabela 'raw.2015_partidas' criada com 380 registros!\n",
      "Tabela 'raw.status' criada com 5 registros!\n",
      "Tabela 'raw.2016_atletas' criada com 1001 registros!\n",
      "Tabela 'raw.pontuacao' criada com 18 registros!\n",
      "Tabela 'raw.2015_clubes' criada com 20 registros!\n",
      "Tabela 'raw.2017_scouts' criada com 16313 registros!\n"
     ]
    }
   ],
   "source": [
    "for csv_file in csv_files:\n",
    "    df_raw = pd.read_csv(os.path.join(raw_path, csv_file))\n",
    "    table_name = csv_file.replace(\".csv\", \"\").lower()\n",
    "    create_table(df_raw, table_name, schema_name=\"raw\")"
   ]
  },
  {
   "cell_type": "code",
   "execution_count": null,
   "id": "a1b8c14d",
   "metadata": {},
   "outputs": [],
   "source": [
    "from sqlalchemy import text\n",
    "\n",
    "with engine.connect() as conn:\n",
    "    result = conn.execute(\n",
    "        text(\"\"\"\n",
    "            SELECT table_name \n",
    "            FROM information_schema.tables \n",
    "            WHERE table_schema = 'raw';\n",
    "        \"\"\")\n",
    "    )\n",
    "    raw_tables = [row[0] for row in result]\n",
    "\n",
    "# print(\"Tabelas na Raw:\", raw_tables)\n",
    "\n",
    "for table_name in raw_tables:\n",
    "    df = pd.read_sql(f'SELECT * FROM \"raw\".\"{table_name}\"', engine)\n",
    "    \n",
    "    df.columns = [col.strip().lower() for col in df.columns]\n",
    "    df = df.drop_duplicates()\n",
    "    # df = df.fillna(\"\")\n",
    "    \n",
    "    create_table(df, table_name, schema_name=\"silver\")\n"
   ]
  },
  {
   "cell_type": "code",
   "execution_count": 21,
   "id": "da25a731",
   "metadata": {},
   "outputs": [
    {
     "name": "stderr",
     "output_type": "stream",
     "text": [
      "/tmp/ipykernel_38963/3295859497.py:26: FutureWarning: The behavior of DataFrame concatenation with empty or all-NA entries is deprecated. In a future version, this will no longer exclude empty or all-NA columns when determining the result dtypes. To retain the old behavior, exclude the relevant entries before the concat operation.\n",
      "  df_final = pd.concat(dfs, ignore_index=True)\n"
     ]
    },
    {
     "name": "stdout",
     "output_type": "stream",
     "text": [
      "Tabela 'silver.scout' criada com 109558 registros!\n"
     ]
    }
   ],
   "source": [
    "anos = [2014, 2015, 2016, 2017]\n",
    "\n",
    "ordem_atributos = [\n",
    "    'atleta_id', 'clube_id', 'posicao_id', 'partida_id', 'rodada', 'participou',\n",
    "    'jogos_num', 'pontos_num', 'media_num', 'preco_num', 'variacao_num',\n",
    "    'mando', 'titular', 'substituido', 'tempo_jogado', 'nota',\n",
    "    'FS', 'PE', 'A', 'FT', 'FD', 'FF', 'G', 'I', 'PP', 'RB', 'FC', 'GC', 'CA', 'CV', 'SG', 'DD', 'DP', 'GS'\n",
    "]\n",
    "\n",
    "dfs = []\n",
    "\n",
    "inspector = inspect(engine)\n",
    "\n",
    "for ano in anos:\n",
    "    table_name = f\"{ano}_scouts\"\n",
    "    df = pd.read_sql_table(table_name, engine, schema=\"raw\")\n",
    "\n",
    "    for col in ordem_atributos:\n",
    "        if col not in df.columns:\n",
    "            df[col] = None\n",
    "\n",
    "    df = df[ordem_atributos]\n",
    "    \n",
    "    dfs.append(df)\n",
    "\n",
    "df_final = pd.concat(dfs, ignore_index=True)\n",
    "\n",
    "df_final.to_sql('scout', engine, schema=\"silver\", if_exists='replace', index=False)\n",
    "print(f\"Tabela 'silver.scout' criada com {len(df_final)} registros!\")"
   ]
  }
 ],
 "metadata": {
  "kernelspec": {
   "display_name": "Python 3 (ipykernel)",
   "language": "python",
   "name": "python3"
  },
  "language_info": {
   "codemirror_mode": {
    "name": "ipython",
    "version": 3
   },
   "file_extension": ".py",
   "mimetype": "text/x-python",
   "name": "python",
   "nbconvert_exporter": "python",
   "pygments_lexer": "ipython3",
   "version": "3.12.3"
  }
 },
 "nbformat": 4,
 "nbformat_minor": 5
}
